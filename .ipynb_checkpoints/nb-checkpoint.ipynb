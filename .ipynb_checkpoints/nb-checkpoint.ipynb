{
 "cells": [
  {
   "cell_type": "markdown",
   "id": "c8ddaa0d",
   "metadata": {},
   "source": [
    "# Alzeimer's "
   ]
  },
  {
   "cell_type": "markdown",
   "id": "60adfec9",
   "metadata": {},
   "source": [
    "#### About\n",
    "It is the most common type of dementia.Alzheimer’s disease involves parts of the brain that control thought, memory, and language.It is a progressive disease beginning with mild memory loss and possibly leading to loss of the ability to carry on a conversation and respond to the environment.\n"
   ]
  },
  {
   "cell_type": "markdown",
   "id": "91806b28",
   "metadata": {},
   "source": [
    "#### Facts and Figures \n",
    "<img title=\"a title\" alt=\"Alt text\" src=\"img.png\">\n",
    "\n",
    "###### Source: https://ourworldindata.org/causes-of-death#dementia"
   ]
  },
  {
   "cell_type": "markdown",
   "id": "17dc3c71",
   "metadata": {},
   "source": [
    "#### How Alzeimer’s is diagnosed\n",
    "Ask the person experiencing the disease a general question concerning health, family history, the use of over the counter medicines, ability to carry out daily activities.\n",
    "Conduct tests of memory, counting, problem solving, attention and language.\n",
    "Order blood, urine and other medical tests that can help with the causes of the disease.\n",
    "Collect cerebrospinal fluid and measure levels of proteins for Alzheimer and other related dementia.\n",
    "Perform brain scans\n"
   ]
  },
  {
   "cell_type": "markdown",
   "id": "d3058f9e",
   "metadata": {},
   "source": [
    "#### Leading a healthy lifestyle can help reduce the risk of dementia\n",
    "\n",
    "People can reduce their risk of dementia by getting regular exercise, not smoking, avoiding harmful use of alcohol, controlling their weight, eating a healthy diet, and maintaining healthy blood pressure, cholesterol and blood sugar levels."
   ]
  },
  {
   "cell_type": "markdown",
   "id": "76fc4a0f",
   "metadata": {},
   "source": [
    "#### There is no cure for dementia but much can be done to support people living with dementia and their carers\n",
    "\n",
    "Currently there is no cure for dementia. However, much can be done to support people living with dementia. Early diagnosis is important; regular health checks can help to ensure that accompanying physical illnesses are diagnosed and treated; and health and social care systems, when adequately resourced, can ensure care at all stages of dementia."
   ]
  },
  {
   "cell_type": "markdown",
   "id": "66357bb2",
   "metadata": {},
   "source": [
    "#### References\n",
    "\n",
    "https://www.kaggle.com/datasets/legendahmed/alzheimers-clinical-data/discussion\n",
    "\n",
    "https://www.who.int/news-room/fact-sheets/detail/the-top-10-causes-of-death\n",
    "\n",
    "https://www.who.int/news-room/fact-sheets/detail/dementia\n",
    "\n",
    "https://www.who.int/news-room/facts-in-pictures/detail/dementia\n",
    "\n",
    "https://www.cdc.gov/aging/aginginfo/alzheimers.htm\n",
    "\n",
    "https://knightadrc.wustl.edu/professionals-clinicians/cdr-dementia-staging-instrument/cdr-scoring-table/\n",
    "\n",
    "https://www.healthdirect.gov.au/mini-mental-state-examination-mmse\n"
   ]
  },
  {
   "cell_type": "code",
   "execution_count": 2,
   "id": "49b72b24",
   "metadata": {},
   "outputs": [],
   "source": [
    "# library imports.\n",
    "import numpy as np\n",
    "import pandas as pd\n",
    "\n",
    "# for data visualization  for EDA.\n",
    "import matplotlib.pyplot as plt\n",
    "import seaborn as sns\n",
    "\n",
    "import warnings\n",
    "warnings.simplefilter(action='ignore', category=FutureWarning)"
   ]
  },
  {
   "cell_type": "code",
   "execution_count": 3,
   "id": "fcd67779",
   "metadata": {},
   "outputs": [],
   "source": [
    "data = pd.read_csv('clinical-data-for alzheimers.csv')"
   ]
  },
  {
   "cell_type": "code",
   "execution_count": 4,
   "id": "18568917",
   "metadata": {},
   "outputs": [
    {
     "data": {
      "text/html": [
       "<div>\n",
       "<style scoped>\n",
       "    .dataframe tbody tr th:only-of-type {\n",
       "        vertical-align: middle;\n",
       "    }\n",
       "\n",
       "    .dataframe tbody tr th {\n",
       "        vertical-align: top;\n",
       "    }\n",
       "\n",
       "    .dataframe thead th {\n",
       "        text-align: right;\n",
       "    }\n",
       "</style>\n",
       "<table border=\"1\" class=\"dataframe\">\n",
       "  <thead>\n",
       "    <tr style=\"text-align: right;\">\n",
       "      <th></th>\n",
       "      <th>Subject</th>\n",
       "      <th>Gender</th>\n",
       "      <th>mmse</th>\n",
       "      <th>ageAtEntry</th>\n",
       "      <th>cdr</th>\n",
       "      <th>memory</th>\n",
       "      <th>dx1</th>\n",
       "    </tr>\n",
       "  </thead>\n",
       "  <tbody>\n",
       "    <tr>\n",
       "      <th>0</th>\n",
       "      <td>OAS30124</td>\n",
       "      <td>female</td>\n",
       "      <td>16</td>\n",
       "      <td>79.14579</td>\n",
       "      <td>1.0</td>\n",
       "      <td>1</td>\n",
       "      <td>'AD Dementia'</td>\n",
       "    </tr>\n",
       "    <tr>\n",
       "      <th>1</th>\n",
       "      <td>OAS30124</td>\n",
       "      <td>female</td>\n",
       "      <td>21</td>\n",
       "      <td>79.14579</td>\n",
       "      <td>0.5</td>\n",
       "      <td>0.5</td>\n",
       "      <td>'AD Dementia'</td>\n",
       "    </tr>\n",
       "    <tr>\n",
       "      <th>2</th>\n",
       "      <td>OAS31129</td>\n",
       "      <td>female</td>\n",
       "      <td>20</td>\n",
       "      <td>68.07666</td>\n",
       "      <td>1.0</td>\n",
       "      <td>1</td>\n",
       "      <td>'AD Dementia'</td>\n",
       "    </tr>\n",
       "    <tr>\n",
       "      <th>3</th>\n",
       "      <td>OAS31129</td>\n",
       "      <td>female</td>\n",
       "      <td>28</td>\n",
       "      <td>68.07666</td>\n",
       "      <td>1.0</td>\n",
       "      <td>1</td>\n",
       "      <td>'AD Dementia'</td>\n",
       "    </tr>\n",
       "    <tr>\n",
       "      <th>4</th>\n",
       "      <td>OAS31129</td>\n",
       "      <td>female</td>\n",
       "      <td>29</td>\n",
       "      <td>68.07666</td>\n",
       "      <td>0.5</td>\n",
       "      <td>0.5</td>\n",
       "      <td>'AD Dementia'</td>\n",
       "    </tr>\n",
       "  </tbody>\n",
       "</table>\n",
       "</div>"
      ],
      "text/plain": [
       "    Subject  Gender mmse  ageAtEntry  cdr memory            dx1\n",
       "0  OAS30124  female   16    79.14579  1.0      1  'AD Dementia'\n",
       "1  OAS30124  female   21    79.14579  0.5    0.5  'AD Dementia'\n",
       "2  OAS31129  female   20    68.07666  1.0      1  'AD Dementia'\n",
       "3  OAS31129  female   28    68.07666  1.0      1  'AD Dementia'\n",
       "4  OAS31129  female   29    68.07666  0.5    0.5  'AD Dementia'"
      ]
     },
     "execution_count": 4,
     "metadata": {},
     "output_type": "execute_result"
    }
   ],
   "source": [
    "data.head()"
   ]
  },
  {
   "cell_type": "code",
   "execution_count": 5,
   "id": "d4f32c5b",
   "metadata": {},
   "outputs": [
    {
     "data": {
      "text/plain": [
       "(1229, 7)"
      ]
     },
     "execution_count": 5,
     "metadata": {},
     "output_type": "execute_result"
    }
   ],
   "source": [
    "data.shape"
   ]
  },
  {
   "cell_type": "code",
   "execution_count": 6,
   "id": "422c4af3",
   "metadata": {},
   "outputs": [
    {
     "name": "stdout",
     "output_type": "stream",
     "text": [
      "<class 'pandas.core.frame.DataFrame'>\n",
      "RangeIndex: 1229 entries, 0 to 1228\n",
      "Data columns (total 7 columns):\n",
      " #   Column      Non-Null Count  Dtype  \n",
      "---  ------      --------------  -----  \n",
      " 0   Subject     1229 non-null   object \n",
      " 1   Gender      1229 non-null   object \n",
      " 2   mmse        1229 non-null   object \n",
      " 3   ageAtEntry  1229 non-null   float64\n",
      " 4   cdr         1229 non-null   float64\n",
      " 5   memory      1229 non-null   object \n",
      " 6   dx1         1229 non-null   object \n",
      "dtypes: float64(2), object(5)\n",
      "memory usage: 67.3+ KB\n"
     ]
    }
   ],
   "source": [
    "data.info()"
   ]
  },
  {
   "cell_type": "markdown",
   "id": "ea7d9911",
   "metadata": {},
   "source": [
    "#### Features Description:\n",
    "* Subject - Identity of patient\n",
    "\n",
    "\n",
    "* Gender - Feminine.\n",
    "\n",
    "\n",
    "* MMSE - Mini-Mental State Examination, a (MMSE) is a set of 11 questions that doctors and other healthcare professionals commonly use to check for cognitive impairment (problems with thinking, communication, understanding and memory).The maximum score for the MMSE is 30. A score of 25 or higher is classed as normal. If the score is below 24, the result is usually considered to be abnormal, indicating possible cognitive impairment.\n",
    "\n",
    "* AgeAtEntry - age at diagnosis.\n",
    "\n",
    "\n",
    "\n",
    "* CDR - Clinical Dementia Rating: a global scale rating for staging people diagnosed with Dementia.The Global CDR Score is useful for characterizing and tracking a patient’s level of idementia: 0 = Normal, 0.5 = Very Mild Dementia, 1 = Mild Dementia, 2 = Moderate Dementia, 3 = Severe Dementia.\n",
    "\n",
    "\n",
    "* Memory - memory test scores as stated as MMSE.\n",
    "\n",
    "\n",
    "* dx1 - AD means Alzheimer's Disease/Dementia"
   ]
  },
  {
   "cell_type": "code",
   "execution_count": 7,
   "id": "00ec52a0",
   "metadata": {},
   "outputs": [
    {
     "data": {
      "text/plain": [
       "Subject       0\n",
       "Gender        0\n",
       "mmse          0\n",
       "ageAtEntry    0\n",
       "cdr           0\n",
       "memory        0\n",
       "dx1           0\n",
       "dtype: int64"
      ]
     },
     "execution_count": 7,
     "metadata": {},
     "output_type": "execute_result"
    }
   ],
   "source": [
    "data.isna().sum()"
   ]
  },
  {
   "cell_type": "code",
   "execution_count": 8,
   "id": "9047cdf6",
   "metadata": {},
   "outputs": [],
   "source": [
    "#data exploration"
   ]
  },
  {
   "cell_type": "code",
   "execution_count": 11,
   "id": "425200cb",
   "metadata": {},
   "outputs": [
    {
     "data": {
      "text/html": [
       "<div>\n",
       "<style scoped>\n",
       "    .dataframe tbody tr th:only-of-type {\n",
       "        vertical-align: middle;\n",
       "    }\n",
       "\n",
       "    .dataframe tbody tr th {\n",
       "        vertical-align: top;\n",
       "    }\n",
       "\n",
       "    .dataframe thead th {\n",
       "        text-align: right;\n",
       "    }\n",
       "</style>\n",
       "<table border=\"1\" class=\"dataframe\">\n",
       "  <thead>\n",
       "    <tr style=\"text-align: right;\">\n",
       "      <th></th>\n",
       "      <th>ageAtEntry</th>\n",
       "      <th>cdr</th>\n",
       "    </tr>\n",
       "  </thead>\n",
       "  <tbody>\n",
       "    <tr>\n",
       "      <th>count</th>\n",
       "      <td>1229.00</td>\n",
       "      <td>1229.00</td>\n",
       "    </tr>\n",
       "    <tr>\n",
       "      <th>mean</th>\n",
       "      <td>72.90</td>\n",
       "      <td>0.70</td>\n",
       "    </tr>\n",
       "    <tr>\n",
       "      <th>std</th>\n",
       "      <td>7.74</td>\n",
       "      <td>0.42</td>\n",
       "    </tr>\n",
       "    <tr>\n",
       "      <th>min</th>\n",
       "      <td>47.61</td>\n",
       "      <td>0.00</td>\n",
       "    </tr>\n",
       "    <tr>\n",
       "      <th>25%</th>\n",
       "      <td>67.55</td>\n",
       "      <td>0.50</td>\n",
       "    </tr>\n",
       "    <tr>\n",
       "      <th>50%</th>\n",
       "      <td>73.01</td>\n",
       "      <td>0.50</td>\n",
       "    </tr>\n",
       "    <tr>\n",
       "      <th>75%</th>\n",
       "      <td>78.65</td>\n",
       "      <td>1.00</td>\n",
       "    </tr>\n",
       "    <tr>\n",
       "      <th>max</th>\n",
       "      <td>95.57</td>\n",
       "      <td>3.00</td>\n",
       "    </tr>\n",
       "  </tbody>\n",
       "</table>\n",
       "</div>"
      ],
      "text/plain": [
       "       ageAtEntry      cdr\n",
       "count     1229.00  1229.00\n",
       "mean        72.90     0.70\n",
       "std          7.74     0.42\n",
       "min         47.61     0.00\n",
       "25%         67.55     0.50\n",
       "50%         73.01     0.50\n",
       "75%         78.65     1.00\n",
       "max         95.57     3.00"
      ]
     },
     "execution_count": 11,
     "metadata": {},
     "output_type": "execute_result"
    }
   ],
   "source": [
    "round(data.describe(),2)"
   ]
  },
  {
   "cell_type": "code",
   "execution_count": 10,
   "id": "88536b3c",
   "metadata": {},
   "outputs": [
    {
     "data": {
      "text/html": [
       "<div>\n",
       "<style scoped>\n",
       "    .dataframe tbody tr th:only-of-type {\n",
       "        vertical-align: middle;\n",
       "    }\n",
       "\n",
       "    .dataframe tbody tr th {\n",
       "        vertical-align: top;\n",
       "    }\n",
       "\n",
       "    .dataframe thead th {\n",
       "        text-align: right;\n",
       "    }\n",
       "</style>\n",
       "<table border=\"1\" class=\"dataframe\">\n",
       "  <thead>\n",
       "    <tr style=\"text-align: right;\">\n",
       "      <th></th>\n",
       "      <th>ageAtEntry</th>\n",
       "      <th>cdr</th>\n",
       "    </tr>\n",
       "  </thead>\n",
       "  <tbody>\n",
       "    <tr>\n",
       "      <th>count</th>\n",
       "      <td>1229.000000</td>\n",
       "      <td>1229.000000</td>\n",
       "    </tr>\n",
       "    <tr>\n",
       "      <th>mean</th>\n",
       "      <td>72.900069</td>\n",
       "      <td>0.702604</td>\n",
       "    </tr>\n",
       "    <tr>\n",
       "      <th>std</th>\n",
       "      <td>7.739166</td>\n",
       "      <td>0.415548</td>\n",
       "    </tr>\n",
       "    <tr>\n",
       "      <th>min</th>\n",
       "      <td>47.605750</td>\n",
       "      <td>0.000000</td>\n",
       "    </tr>\n",
       "    <tr>\n",
       "      <th>25%</th>\n",
       "      <td>67.550995</td>\n",
       "      <td>0.500000</td>\n",
       "    </tr>\n",
       "    <tr>\n",
       "      <th>50%</th>\n",
       "      <td>73.013010</td>\n",
       "      <td>0.500000</td>\n",
       "    </tr>\n",
       "    <tr>\n",
       "      <th>75%</th>\n",
       "      <td>78.650240</td>\n",
       "      <td>1.000000</td>\n",
       "    </tr>\n",
       "    <tr>\n",
       "      <th>max</th>\n",
       "      <td>95.567420</td>\n",
       "      <td>3.000000</td>\n",
       "    </tr>\n",
       "  </tbody>\n",
       "</table>\n",
       "</div>"
      ],
      "text/plain": [
       "        ageAtEntry          cdr\n",
       "count  1229.000000  1229.000000\n",
       "mean     72.900069     0.702604\n",
       "std       7.739166     0.415548\n",
       "min      47.605750     0.000000\n",
       "25%      67.550995     0.500000\n",
       "50%      73.013010     0.500000\n",
       "75%      78.650240     1.000000\n",
       "max      95.567420     3.000000"
      ]
     },
     "execution_count": 10,
     "metadata": {},
     "output_type": "execute_result"
    }
   ],
   "source": [
    "data.describe()"
   ]
  },
  {
   "cell_type": "code",
   "execution_count": null,
   "id": "e617697f",
   "metadata": {},
   "outputs": [],
   "source": []
  }
 ],
 "metadata": {
  "kernelspec": {
   "display_name": "Python 3 (ipykernel)",
   "language": "python",
   "name": "python3"
  },
  "language_info": {
   "codemirror_mode": {
    "name": "ipython",
    "version": 3
   },
   "file_extension": ".py",
   "mimetype": "text/x-python",
   "name": "python",
   "nbconvert_exporter": "python",
   "pygments_lexer": "ipython3",
   "version": "3.8.2"
  }
 },
 "nbformat": 4,
 "nbformat_minor": 5
}
